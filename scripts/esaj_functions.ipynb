{
 "cells": [
  {
   "attachments": {},
   "cell_type": "markdown",
   "metadata": {
    "tags": [
     "remove_cell"
    ]
   },
   "source": [
    "<br>\n",
    "\n",
    "# Introdução\n"
   ]
  },
  {
   "cell_type": "code",
   "execution_count": null,
   "metadata": {
    "tags": [
     "remove_cell"
    ]
   },
   "outputs": [],
   "source": [
    "#!pip3 install PyPDF2 --upgrade\n",
    "#!pip3 install screeninfo"
   ]
  },
  {
   "cell_type": "code",
   "execution_count": null,
   "metadata": {},
   "outputs": [],
   "source": [
    "import os\n",
    "import re\n",
    "import shutil\n",
    "from zipfile import ZipFile\n",
    "from pathlib import Path\n",
    "from PyPDF2 import PdfMerger, PdfReader\n"
   ]
  },
  {
   "attachments": {},
   "cell_type": "markdown",
   "metadata": {
    "tags": [
     "remove_cell"
    ]
   },
   "source": [
    "<br>\n",
    "\n",
    "## Paths\n"
   ]
  },
  {
   "cell_type": "code",
   "execution_count": null,
   "metadata": {},
   "outputs": [],
   "source": [
    "def set_directories(zipfile_file):\n",
    "    # Paths\n",
    "    input_path = os.path.dirname(os.path.abspath(zipfile_file))\n",
    "\n",
    "    while not zipfile_file.lower().endswith(('.zip', '.ZIP')):\n",
    "        print('Erro: Selecionar um arquivo .zip')\n",
    "        return 0, 0, 0\n",
    "\n",
    "    # Paths\n",
    "    temp = os.path.basename(zipfile_file).replace('.zip', '')\n",
    "    output_path = os.path.join(input_path, temp)\n",
    "    output_apartados_path = os.path.join(input_path, temp, 'apartados')\n",
    "\n",
    "    # Clean Directories\n",
    "    shutil.rmtree(output_path, ignore_errors=True)\n",
    "\n",
    "    # Make Directories\n",
    "    os.makedirs(output_path, exist_ok=True)\n",
    "    os.makedirs(output_apartados_path, exist_ok=True)\n",
    "    return input_path, output_path, output_apartados_path\n"
   ]
  },
  {
   "cell_type": "code",
   "execution_count": null,
   "metadata": {
    "tags": [
     "remove_cell"
    ]
   },
   "outputs": [],
   "source": [
    "# Major Path\n",
    "zipfile_file = os.path.join(\n",
    "    '..', 'data', '1010642-60.2020.8.26.0019 pequeno.zip'\n",
    ")\n",
    "input_path, output_path, output_apartados_path = set_directories(zipfile_file)\n"
   ]
  },
  {
   "attachments": {},
   "cell_type": "markdown",
   "metadata": {
    "tags": [
     "remove_cell"
    ]
   },
   "source": [
    "<br>\n",
    "\n",
    "# Zip\n"
   ]
  },
  {
   "cell_type": "code",
   "execution_count": null,
   "metadata": {},
   "outputs": [],
   "source": [
    "def unzip_zipfile(zipfile_file, output_path):\n",
    "    \"\"\"\n",
    "    Para descompactar apenas um arquivo .zip específico\n",
    "    \"\"\"\n",
    "    print('> Etapa 1: Descompacta arquivo')\n",
    "    if not os.path.isfile(zipfile_file):\n",
    "        print('É necessário selecionar um arquivo .zip')\n",
    "\n",
    "    if not os.path.isdir(output_path):\n",
    "        print('É necessário selecionar uma pasta')\n",
    "\n",
    "    try:\n",
    "        with ZipFile(zipfile_file, 'r') as zipObj:\n",
    "            # Extract all the contents of zip file in different directory\n",
    "            zipObj.extractall(output_path)\n",
    "        msg = '> Etapa 1: Concluída.'\n",
    "    except Exception as e:\n",
    "        msg = 'Erro: {}'.format(e)\n",
    "    print(msg)\n",
    "    return msg\n"
   ]
  },
  {
   "cell_type": "code",
   "execution_count": null,
   "metadata": {
    "tags": [
     "remove_cell"
    ]
   },
   "outputs": [],
   "source": [
    "# ddd\n",
    "zipfile_file = os.path.join(\n",
    "    '..', 'data', '1010642-60.2020.8.26.0019 pequeno.zip'\n",
    ")\n",
    "unzip_zipfile(zipfile_file, output_apartados_path)\n"
   ]
  },
  {
   "attachments": {},
   "cell_type": "markdown",
   "metadata": {
    "tags": [
     "remove_cell"
    ]
   },
   "source": [
    "<br>\n",
    "\n",
    "## Função\n",
    "\n",
    "Função que extrai todo o conteúdo que se encontra entre as palabras \"pag \" e \").pdf\".\n",
    "Necessária para obter o número da primeira página do documento.\n"
   ]
  },
  {
   "cell_type": "code",
   "execution_count": null,
   "metadata": {},
   "outputs": [],
   "source": [
    "def extract_text(filename):\n",
    "    \"\"\"\n",
    "    Função que pega o nome do arquivo e cria o nome nome, utilizando\n",
    "    a primeira página dos documentos extraidos dos documentos do e-SAJ\n",
    "    imediatamente após o \"(pag \"...\n",
    "    \"\"\"\n",
    "    # Prefixo e Sufixo da busca, para ser deletado\n",
    "    start = 'pag '\n",
    "    end = '.pdf'\n",
    "\n",
    "    # Deleta\n",
    "    text = re.search('(?<={}).*?(?={})'.format(start, end), filename)\n",
    "    text = text.group()\n",
    "    text = text.replace(')', '')\n",
    "    page_1st = text.split(' - ')[0]\n",
    "    page_1st = int(page_1st)\n",
    "    return '{} - {}'.format(page_1st, filename)\n"
   ]
  },
  {
   "cell_type": "code",
   "execution_count": null,
   "metadata": {
    "tags": [
     "remove_cell"
    ]
   },
   "outputs": [],
   "source": [
    "# Test\n",
    "for i in [\n",
    "    'Documento 25 (pag 1249 - 1251).pdf',\n",
    "    'Administrativa (pag 2641).pdf',\n",
    "]:\n",
    "    print(extract_text(i))\n"
   ]
  },
  {
   "attachments": {},
   "cell_type": "markdown",
   "metadata": {
    "tags": [
     "remove_cell"
    ]
   },
   "source": [
    "<br>\n",
    "\n",
    "# Principal\n"
   ]
  },
  {
   "cell_type": "code",
   "execution_count": null,
   "metadata": {},
   "outputs": [],
   "source": [
    "def get_n_files(input_path):\n",
    "    n_files = 0\n",
    "    for path, dirs, files in os.walk(input_path):\n",
    "        n_files += len(files)\n",
    "    return n_files\n"
   ]
  },
  {
   "cell_type": "code",
   "execution_count": null,
   "metadata": {},
   "outputs": [],
   "source": [
    "def rename_files(input_files_path):\n",
    "    print('> Etapa 2: Renomear Arquivos')\n",
    "\n",
    "    # Parameters\n",
    "    n_file = 0\n",
    "    n_files = get_n_files(input_files_path)\n",
    "\n",
    "    # Loop\n",
    "    for path, dirs, files in os.walk(input_files_path):\n",
    "        for file in files:\n",
    "            n_file += 1\n",
    "            input_file = os.path.join(path, file)\n",
    "            output_filename = extract_text(file)\n",
    "            output_file = os.path.join(input_files_path, output_filename)\n",
    "            print(\n",
    "                'Arquivo {} de {} renomeado - {}% concluído. Aguarde.'.format(\n",
    "                    n_file, n_files, int(n_file / n_files * 100)\n",
    "                )\n",
    "            )\n",
    "            os.rename(input_file, output_file)\n",
    "\n",
    "    # Results\n",
    "    print('> Etapa 2: Concluída.')\n"
   ]
  },
  {
   "cell_type": "code",
   "execution_count": null,
   "metadata": {
    "tags": [
     "remove_cell"
    ]
   },
   "outputs": [],
   "source": [
    "# Renomeia os arquivos\n",
    "rename_files(output_apartados_path)\n"
   ]
  },
  {
   "attachments": {},
   "cell_type": "markdown",
   "metadata": {
    "tags": [
     "remove_cell"
    ]
   },
   "source": [
    "<br>\n",
    "\n",
    "# Merge PDFs\n"
   ]
  },
  {
   "cell_type": "code",
   "execution_count": null,
   "metadata": {},
   "outputs": [],
   "source": [
    "def adjust_bookmark(filename):\n",
    "    \"\"\"\n",
    "    Cria um nome para o bookmark a partir do nome do arquivo.\n",
    "    \"\"\"\n",
    "    bookmark = filename.split(' - ', maxsplit=1)[-1]\n",
    "    bookmark = bookmark.replace('.pdf', '')\n",
    "    return bookmark\n"
   ]
  },
  {
   "cell_type": "code",
   "execution_count": null,
   "metadata": {
    "tags": [
     "remove_cell"
    ]
   },
   "outputs": [],
   "source": [
    "# Test\n",
    "adjust_bookmark('208 - Documento 4 (pag 208 - 209).pdf')\n"
   ]
  },
  {
   "cell_type": "code",
   "execution_count": null,
   "metadata": {},
   "outputs": [],
   "source": [
    "def get_int(name):\n",
    "    \"\"\"\n",
    "    Custom Function to sort list of files, based in their names.\n",
    "    \"\"\"\n",
    "    num = name.split(' - ')[0]\n",
    "    return int(num)\n",
    "\n",
    "\n",
    "def sort_files_as_list(path):\n",
    "    \"\"\"\n",
    "    Sort list os files in directort\n",
    "    \"\"\"\n",
    "    # List Only Files\n",
    "    # list_files = os.listdir(path) # Dá erro pois pega pastas tb!\n",
    "    list_files = [\n",
    "        f for f in os.listdir(path) if os.path.isfile(os.path.join(path, f))\n",
    "    ]\n",
    "\n",
    "    # Sort\n",
    "    list_files.sort(key=get_int)\n",
    "    return list_files\n"
   ]
  },
  {
   "cell_type": "code",
   "execution_count": null,
   "metadata": {
    "tags": [
     "remove_cell"
    ]
   },
   "outputs": [],
   "source": [
    "# Sort Files\n",
    "list_files = sort_files_as_list(output_apartados_path)\n"
   ]
  },
  {
   "cell_type": "code",
   "execution_count": null,
   "metadata": {
    "tags": []
   },
   "outputs": [],
   "source": [
    "def merge_files(input_files_path, output_file_path, filename):\n",
    "    # Append PDF files sorted\n",
    "    print('> Etapa 3: Unifica Arquivos')\n",
    "\n",
    "    # List Files\n",
    "    list_files = sort_files_as_list(input_files_path)\n",
    "\n",
    "    # Parameters\n",
    "    n_file = 0\n",
    "    n_files = get_n_files(input_files_path)\n",
    "\n",
    "    # Call the PdfFileMerger\n",
    "    merged_object = PdfMerger()\n",
    "\n",
    "    # Loop\n",
    "    for file in list_files:\n",
    "        n_file += 1\n",
    "        bookmark = adjust_bookmark(file)\n",
    "        merged_object.append(\n",
    "            PdfReader(os.path.join(input_files_path, file), 'rb'),\n",
    "            bookmark,\n",
    "        )\n",
    "        print(\n",
    "            f'Arquivo {n_file} de {n_files} juntado - {int(n_file/n_files*100)}% concluído. Aguarde.'\n",
    "        )\n",
    "\n",
    "    # Write all the files into a file which is named as shown below\n",
    "    merged_object.write(os.path.join(output_file_path, filename))\n",
    "\n",
    "    # Fim\n",
    "    print('> Etapa 3: Concluída.')\n",
    "    return 0\n"
   ]
  },
  {
   "cell_type": "code",
   "execution_count": null,
   "metadata": {},
   "outputs": [],
   "source": [
    "def create_output_filename(zipfile_file):\n",
    "    output_filename = os.path.basename(zipfile_file)\n",
    "    output_filename = output_filename.replace('.zip', '.pdf').replace(\n",
    "        '.ZIP', '.pdf'\n",
    "    )\n",
    "    return output_filename\n"
   ]
  },
  {
   "cell_type": "code",
   "execution_count": null,
   "metadata": {
    "tags": [
     "remove_cell"
    ]
   },
   "outputs": [],
   "source": [
    "# Output Filename\n",
    "output_filename = create_output_filename(zipfile_file)\n",
    "output_filename\n"
   ]
  },
  {
   "cell_type": "code",
   "execution_count": null,
   "metadata": {
    "tags": [
     "remove_cell"
    ]
   },
   "outputs": [],
   "source": [
    "# Merge Files\n",
    "merge_files(output_apartados_path, input_path, output_filename)\n",
    "\n",
    "# Clean Directories\n",
    "shutil.rmtree(output_path, ignore_errors=True)\n"
   ]
  },
  {
   "cell_type": "code",
   "execution_count": null,
   "metadata": {},
   "outputs": [],
   "source": [
    "if __name__ == '__main__':\n",
    "    print('Módulo Jupyter')\n"
   ]
  },
  {
   "attachments": {},
   "cell_type": "markdown",
   "metadata": {
    "tags": [
     "remove_cell"
    ]
   },
   "source": [
    "<br>\n",
    "\n",
    "# Export\n"
   ]
  },
  {
   "cell_type": "code",
   "execution_count": null,
   "metadata": {
    "tags": [
     "remove_cell"
    ]
   },
   "outputs": [],
   "source": [
    "import os\n",
    "from traitlets.config import Config\n",
    "from nbconvert import PythonExporter\n",
    "from nbconvert.preprocessors import TagRemovePreprocessor\n"
   ]
  },
  {
   "cell_type": "code",
   "execution_count": null,
   "metadata": {
    "tags": [
     "remove_cell"
    ]
   },
   "outputs": [],
   "source": [
    "filename = 'esaj_functions.ipynb'\n",
    "notebook = os.path.join(os.getcwd(), filename)\n"
   ]
  },
  {
   "cell_type": "code",
   "execution_count": null,
   "metadata": {
    "tags": [
     "remove_cell"
    ]
   },
   "outputs": [],
   "source": [
    "# Import the exporter\n",
    "c = Config()\n",
    "c.TagRemovePreprocessor.enabled = True\n",
    "c.ClearOutputPreprocessor.enabled = True\n",
    "c.TemplateExporter.exclude_markdown = True\n",
    "c.TemplateExporter.exclude_code_cell = False\n",
    "c.TemplateExporter.exclude_input_prompt = True\n",
    "c.TemplateExporter.exclude_output = True\n",
    "c.TemplateExporter.exclude_raw = True\n",
    "c.TagRemovePreprocessor.remove_cell_tags = ('remove_cell',)\n",
    "c.TagRemovePreprocessor.remove_input_tags = ('remove_cell',)\n",
    "c.TagRemovePreprocessor.remove_all_outputs_tags = ('remove_output',)\n",
    "c.preprocessors = ['TagRemovePreprocessor']\n",
    "c.PythonExporter.preprocessors = [\n",
    "    'nbconvert.preprocessors.TagRemovePreprocessor'\n",
    "]\n",
    "\n",
    "# Configure and run out exporter\n",
    "py_exporter = PythonExporter(config=c)\n",
    "py_exporter.register_preprocessor(TagRemovePreprocessor(config=c), True)\n",
    "\n",
    "# Configure and run out exporter - returns a tuple - first element with html, second with notebook metadata\n",
    "body, metadata = PythonExporter(config=c).from_filename(notebook)\n",
    "\n",
    "# Write to output html file\n",
    "with open(\n",
    "    os.path.join('..', 'src', 'esaj_functions.py'), 'w', encoding='utf-8'\n",
    ") as f:\n",
    "    f.write(body)\n"
   ]
  },
  {
   "cell_type": "code",
   "execution_count": null,
   "metadata": {},
   "outputs": [],
   "source": []
  }
 ],
 "metadata": {
  "celltoolbar": "Tags",
  "kernelspec": {
   "display_name": "pablocarreira-lastest",
   "language": "python",
   "name": "python3"
  },
  "language_info": {
   "codemirror_mode": {
    "name": "ipython",
    "version": 3
   },
   "file_extension": ".py",
   "mimetype": "text/x-python",
   "name": "python",
   "nbconvert_exporter": "python",
   "pygments_lexer": "ipython3",
   "version": "3.10.8"
  },
  "vscode": {
   "interpreter": {
    "hash": "69ec7189aabf676ff21bd6aee8fa5dc1a60e26cc167d7a333823bf1cf2211945"
   }
  }
 },
 "nbformat": 4,
 "nbformat_minor": 4
}
