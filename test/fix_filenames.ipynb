{
 "cells": [
  {
   "cell_type": "markdown",
   "metadata": {},
   "source": [
    "<br>\n",
    "\n",
    "# Introdução"
   ]
  },
  {
   "cell_type": "code",
   "execution_count": null,
   "metadata": {},
   "outputs": [],
   "source": [
    "#!pip3 install PyPDF2"
   ]
  },
  {
   "cell_type": "code",
   "execution_count": null,
   "metadata": {},
   "outputs": [],
   "source": [
    "import os\n",
    "import re\n",
    "import shutil\n",
    "from PyPDF2 import PdfFileMerger, PdfFileReader"
   ]
  },
  {
   "cell_type": "markdown",
   "metadata": {},
   "source": [
    "<br>\n",
    "\n",
    "## Paths"
   ]
  },
  {
   "cell_type": "code",
   "execution_count": null,
   "metadata": {},
   "outputs": [],
   "source": [
    "# Paths\n",
    "input_path = os.path.join('..', 'data', 'input')\n",
    "output_path = os.path.join('..', 'data', 'output')\n",
    "output_apartados_path = os.path.join(output_path, 'apartados')\n",
    "output_final_path = os.path.join(output_path, 'final')\n",
    "\n",
    "# Make Directories\n",
    "os.makedirs(input_path, exist_ok=True)\n",
    "os.makedirs(output_path, exist_ok=True)\n",
    "os.makedirs(output_apartados_path, exist_ok=True)\n",
    "os.makedirs(output_final_path, exist_ok=True)"
   ]
  },
  {
   "cell_type": "markdown",
   "metadata": {},
   "source": [
    "<br>\n",
    "\n",
    "## Função\n",
    "\n",
    "Função que extrai todo o conteúdo que se encontra entre as palabras \"pag \" e \").pdf\".\n",
    "Necessária para obter o número da primeira página do documento."
   ]
  },
  {
   "cell_type": "code",
   "execution_count": null,
   "metadata": {},
   "outputs": [],
   "source": [
    "filename = 'Documento 25 (pag 1249 - 1251).pdf'\n",
    "#filename = 'Administrativa (pag 2641).pdf'\n",
    "\n",
    "def extract_text(filename):\n",
    "    # \n",
    "    start = 'pag '\n",
    "    end = '.pdf'\n",
    "    \n",
    "    # ddd\n",
    "    text = re.search('(?<={}).*?(?={})'.format(start, end), filename)\n",
    "    text = text.group()\n",
    "    text = text.replace(')', '')\n",
    "    page_1st = text.split(' - ')[0]\n",
    "    page_1st = int(page_1st)\n",
    "    return '{} - {}'.format(page_1st, filename)\n",
    "\n",
    "extract_text(filename)"
   ]
  },
  {
   "cell_type": "markdown",
   "metadata": {},
   "source": [
    "<br>\n",
    "\n",
    "# Teste de renomear"
   ]
  },
  {
   "cell_type": "code",
   "execution_count": null,
   "metadata": {},
   "outputs": [],
   "source": [
    "input_file = os.path.join(input_path, 'Administrativa (pag 4583).pdf')\n",
    "output_file = os.path.join(output_path, 'Administrativa (pag 4583sssss).pdf')\n",
    "#shutil.copy(input_file, output_file)"
   ]
  },
  {
   "cell_type": "markdown",
   "metadata": {},
   "source": [
    "<br>\n",
    "\n",
    "# Principal"
   ]
  },
  {
   "cell_type": "code",
   "execution_count": null,
   "metadata": {},
   "outputs": [],
   "source": [
    "for path, dirs, files in os.walk(input_path):\n",
    "    for file in files:\n",
    "        input_file = os.path.join(path, file)\n",
    "        output_filename = extract_text(file)\n",
    "        output_file = os.path.join(output_path, output_filename)\n",
    "        print(input_file)\n",
    "        shutil.copy(input_file, output_file)"
   ]
  },
  {
   "cell_type": "markdown",
   "metadata": {},
   "source": [
    "<br>\n",
    "\n",
    "# Merge PDFs"
   ]
  },
  {
   "cell_type": "code",
   "execution_count": null,
   "metadata": {},
   "outputs": [],
   "source": [
    "# List Files\n",
    "list_files = os.listdir(output_apartados_path)\n",
    "\n",
    "# Function to sort\n",
    "def get_int(name):\n",
    "    num = name.split(' - ')[0]\n",
    "    return int(num)\n",
    "\n",
    "# Sort\n",
    "list_files.sort(key=get_int)\n",
    "list_files"
   ]
  },
  {
   "cell_type": "code",
   "execution_count": null,
   "metadata": {},
   "outputs": [],
   "source": [
    "# Call the PdfFileMerger\n",
    "merged_object = PdfFileMerger()\n",
    "\n",
    "for file in list_files:\n",
    "    print(file)\n",
    "    bookmark = file.split(' - ', maxsplit=1)[-1]\n",
    "    bookmark = bookmark.replace('.pdf', '')\n",
    "    merged_object.append(\n",
    "        PdfFileReader(os.path.join(output_apartados_path, file), 'rb'),\n",
    "        bookmark,\n",
    "    )\n",
    "\n",
    "# Write all the files into a file which is named as shown below\n",
    "merged_object.write(os.path.join(output_final_path, 'processo.pdf'))"
   ]
  },
  {
   "cell_type": "code",
   "execution_count": null,
   "metadata": {},
   "outputs": [],
   "source": []
  }
 ],
 "metadata": {
  "interpreter": {
   "hash": "c4251c2550b597b05a8b3cb3355425d37849bb76c7d3942e2734861434046725"
  },
  "kernelspec": {
   "display_name": "Python 3 (ipykernel)",
   "language": "python",
   "name": "python3"
  },
  "language_info": {
   "codemirror_mode": {
    "name": "ipython",
    "version": 3
   },
   "file_extension": ".py",
   "mimetype": "text/x-python",
   "name": "python",
   "nbconvert_exporter": "python",
   "pygments_lexer": "ipython3",
   "version": "3.9.7"
  }
 },
 "nbformat": 4,
 "nbformat_minor": 4
}
